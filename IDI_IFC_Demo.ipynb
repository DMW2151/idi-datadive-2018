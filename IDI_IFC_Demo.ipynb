{
 "cells": [
  {
   "cell_type": "code",
   "execution_count": 15,
   "metadata": {
    "colab": {
     "autoexec": {
      "startup": false,
      "wait_interval": 0
     },
     "base_uri": "https://localhost:8080/",
     "height": 122
    },
    "colab_type": "code",
    "executionInfo": {
     "elapsed": 2662,
     "status": "ok",
     "timestamp": 1525966196621,
     "user": {
      "displayName": "Michael Dowd",
      "photoUrl": "https://lh3.googleusercontent.com/a/default-user=s128",
      "userId": "113873373674536402175"
     },
     "user_tz": 240
    },
    "id": "6ExIxAgVq7YE",
    "outputId": "cdbcb134-dc17-4806-a43c-44f4f3e2e58e",
    "run_control": {
     "frozen": false,
     "read_only": false
    }
   },
   "outputs": [],
   "source": [
    "# !pip install selenium"
   ]
  },
  {
   "cell_type": "code",
   "execution_count": 16,
   "metadata": {},
   "outputs": [],
   "source": [
    "from tqdm import tqdm"
   ]
  },
  {
   "cell_type": "code",
   "execution_count": 17,
   "metadata": {
    "colab": {
     "autoexec": {
      "startup": false,
      "wait_interval": 0
     }
    },
    "colab_type": "code",
    "id": "GPJc-zLVrINS",
    "run_control": {
     "frozen": false,
     "read_only": false
    }
   },
   "outputs": [],
   "source": [
    "from __future__ import absolute_import, division, print_function, unicode_literals\n",
    "\n",
    "import datetime\n",
    "import logging\n",
    "import os\n",
    "import random\n",
    "import time\n",
    "from bs4 import BeautifulSoup\n",
    "import pandas as pd\n",
    "from time import sleep\n",
    "\n",
    "# import shapefile\n",
    "from selenium import webdriver\n",
    "from selenium.webdriver.common.by import By\n",
    "from selenium.webdriver.common.desired_capabilities import DesiredCapabilities\n",
    "from selenium.webdriver.common.keys import Keys\n",
    "from selenium.webdriver.remote.webdriver import WebDriver as RemoteWebDriver\n",
    "from selenium.webdriver.support import expected_conditions as EC\n",
    "from selenium.webdriver.support.ui import Select, WebDriverWait"
   ]
  },
  {
   "cell_type": "code",
   "execution_count": 18,
   "metadata": {
    "colab": {
     "autoexec": {
      "startup": false,
      "wait_interval": 0
     }
    },
    "colab_type": "code",
    "id": "GKkTZRofqusJ",
    "run_control": {
     "frozen": false,
     "read_only": false
    }
   },
   "outputs": [],
   "source": [
    "DEFAULT_WINDOW_SIZE = (1366, 768)\n",
    "DEFAULT_LOG_PATH = os.path.devnull\n",
    "\n",
    "USER_AGENTS = (\n",
    "    'Mozilla/5.0 (Windows NT 10.0; Win64; x64) AppleWebKit/537.36 (KHTML, like Gecko) Chrome/63.0.3239.132 Safari/537.36',\n",
    "    'Mozilla/5.0 (Windows NT 6.1; Win64; x64) AppleWebKit/537.36 (KHTML, like Gecko) Chrome/63.0.3239.132 Safari/537.36',\n",
    "    'Mozilla/5.0 (Macintosh; Intel Mac OS X 10_13_2) AppleWebKit/537.36 (KHTML, like Gecko) Chrome/63.0.3239.132 Safari/537.36',\n",
    "    'Mozilla/5.0 (Windows NT 10.0; Win64; x64; rv:57.0) Gecko/20100101 Firefox/57.0',\n",
    "    'Mozilla/5.0 (Macintosh; Intel Mac OS X 10_12_6) AppleWebKit/537.36 (KHTML, like Gecko) Chrome/63.0.3239.132 Safari/537.36',\n",
    "    'Mozilla/5.0 (Macintosh; Intel Mac OS X 10_13_2) AppleWebKit/604.4.7 (KHTML, like Gecko) Version/11.0.2 Safari/604.4.7',\n",
    "    'Mozilla/5.0 (Windows NT 10.0; Win64; x64; rv:58.0) Gecko/20100101 Firefox/58.0',\n",
    "    'Mozilla/5.0 (Windows NT 10.0; Win64; x64) AppleWebKit/537.36 (KHTML, like Gecko) Chrome/63.0.3239.84 Safari/537.36',\n",
    "    'Mozilla/5.0 (Windows NT 6.3; Win64; x64) AppleWebKit/537.36 (KHTML, like Gecko) Chrome/63.0.3239.132 Safari/537.36',\n",
    "    'Mozilla/5.0 (X11; Linux x86_64) AppleWebKit/537.36 (KHTML, like Gecko) Chrome/63.0.3239.132 Safari/537.36',\n",
    "    'Mozilla/5.0 (Windows NT 6.1; Win64; x64; rv:57.0) Gecko/20100101 Firefox/57.0',\n",
    "    'Mozilla/5.0 (X11; Ubuntu; Linux x86_64; rv:57.0) Gecko/20100101 Firefox/57.0',\n",
    "    'Mozilla/5.0 (Windows NT 6.1) AppleWebKit/537.36 (KHTML, like Gecko) Chrome/63.0.3239.132 Safari/537.36',\n",
    "    'Mozilla/5.0 (Windows NT 10.0; Win64; x64) AppleWebKit/537.36 (KHTML, like Gecko) Chrome/58.0.3029.110 Safari/537.36 Edge/16.16299',\n",
    "    'Mozilla/5.0 (Macintosh; Intel Mac OS X 10_11_6) AppleWebKit/537.36 (KHTML, like Gecko) Chrome/63.0.3239.132 Safari/537.36',\n",
    "    )\n",
    "\"\"\"\n",
    "Tuple[str]: Set of user agents that we randomly choose from to seem \"human\".\n",
    "    Source: https://techblog.willshouse.com/2012/01/03/most-common-user-agents/\n",
    "\"\"\"\n",
    "\n",
    "\n",
    "def init_chrome_webdriver(\n",
    "        executable_path='chromedriver', download_dir=None,\n",
    "        window_size=None, user_agent=None, log_path=None,\n",
    "        headless=True, incognito=True,\n",
    "        ignore_certificate_errors=True,\n",
    "        disable_gpu=True, disable_notifications=True, disable_infobars=True):\n",
    "    \"\"\"\n",
    "    Configure and initialize the ChromeDriver service, then create and return a\n",
    "    new instance of the Chrome web driver, via ``selenium``.\n",
    "\n",
    "    Args:\n",
    "        executable_path (str): Path to ChromeDriver executable, downloadable from\n",
    "            http://chromedriver.storage.googleapis.com/index.html. If 'chromedriver',\n",
    "            the executable must be somewhere in ``$PATH``.\n",
    "        window_size (Tuple[int, int]): Size (width x height) of browser window.\n",
    "            If None, a default window size is used.\n",
    "        user_agent (str): Set browser's user agent; If None, a common user agent\n",
    "            is randomly selected. This can be useful for \"spoofing\".\n",
    "        log_path (str): Path on disk to which logging statements are written.\n",
    "            If None, '/dev/null' is used by default, effectively disabling logging.\n",
    "        headless (bool): If True, run browser in headless mode, i.e. without a UI\n",
    "            or display server dependencies; otherwise, open a regular browser window.\n",
    "        incognito (bool): Launch browser in incognito mode.\n",
    "        ignore_certificate_errors (bool): If True, ignore certificate-related\n",
    "            errors; otherwise, raise exceptions for such errors.\n",
    "        disable_gpu (bool): If True, disable GPU hardware acceleration; otherwise,\n",
    "            attempt to use GPU when rendering.\n",
    "        disable_notifications (bool): If True, disable web notification and push APIs.\n",
    "        disable_infobars (bool): If True, prevent infobars from appearing.\n",
    "\n",
    "    Returns:\n",
    "        :class:`webdriver.Chrome()`\n",
    "\n",
    "    References:\n",
    "        A complete list of chrome options can be found here:\n",
    "        https://peter.sh/experiments/chromium-command-line-switches/\n",
    "    \"\"\"\n",
    "    options = webdriver.ChromeOptions()\n",
    "\n",
    "    # set boolean switch args\n",
    "    if headless is True:\n",
    "        options.add_argument('--headless')\n",
    "    if incognito is True:\n",
    "        options.add_argument('--incognito')\n",
    "    if ignore_certificate_errors is True:\n",
    "        options.add_argument('--ignore-certificate-errors')\n",
    "    if disable_gpu is True:\n",
    "        options.add_argument('--disable-gpu')\n",
    "    if disable_notifications is True:\n",
    "        options.add_argument('--disable-notifications')\n",
    "    if disable_infobars is True:\n",
    "        options.add_argument('--disable-infobars')\n",
    "\n",
    "    # set window size, using a global default if not specified\n",
    "    # (does this matter if `headless=True`?)\n",
    "    if not window_size:\n",
    "        window_size = DEFAULT_WINDOW_SIZE\n",
    "    options.add_argument('--window-size={w},{h}'.format(w=window_size[0], h=window_size[1]))\n",
    "\n",
    "    # set user-agent, using a randomly selected default if not specified\n",
    "    if not user_agent:\n",
    "        user_agent = random.choice(USER_AGENTS)\n",
    "    options.add_argument('--user-agent=\"{}\"'.format(user_agent))\n",
    "\n",
    "    # get a global default for logging path if not specified\n",
    "    # value passed in webdriver.Chrome init\n",
    "    if not log_path:\n",
    "        log_path = DEFAULT_LOG_PATH\n",
    "\n",
    "    capabilities = DesiredCapabilities.CHROME.copy()\n",
    "    capabilities['version'] = 'latest'\n",
    "    capabilities['loggingPref'] = {\n",
    "        'driver': 'WARNING', 'server': 'WARNING', 'browser': 'WARNING'}\n",
    "    \n",
    "    \n",
    "    prefs = {\n",
    "        'profile.default_content_settings.popups': False,\n",
    "        'directory_upgrade': True,\n",
    "    }\n",
    "    if download_dir:\n",
    "        prefs['download.default_directory'] = download_dir\n",
    "    options.add_experimental_option('prefs', prefs)\n",
    "\n",
    "    # initialize the driver with specified configuration\n",
    "    driver = webdriver.Chrome(\n",
    "        executable_path=executable_path,\n",
    "        options=options,\n",
    "        desired_capabilities=capabilities,\n",
    "        service_log_path=log_path)\n",
    "\n",
    "    return driver\n",
    "\n",
    "\n",
    "def randomized_sleep(duration):\n",
    "    \"\"\"\n",
    "    Sleep a randomized amount of time between ``duration`` and 2 * ``duration`` seconds.\n",
    "    \"\"\"\n",
    "    time.sleep(duration + duration * random.random())\n",
    "    \n",
    "    \n",
    "   "
   ]
  },
  {
   "cell_type": "code",
   "execution_count": 19,
   "metadata": {
    "run_control": {
     "frozen": false,
     "read_only": false
    }
   },
   "outputs": [],
   "source": [
    "\n",
    "def execute_search(search_term):\n",
    "    print(\"#\"*30)\n",
    "    print('Searching for Term:', search_term)\n",
    "    ## Build the chrome windows\n",
    "    driver = init_chrome_webdriver(headless=False, download_dir=None)\n",
    "    sleep(2) ## Wait for it\n",
    "    \n",
    "    ## Grab the Url\n",
    "    url = \"https://disclosures.ifc.org/#/enterpriseSearchResultsHome/*\"\n",
    "    driver.get(url)\n",
    "    print('Initializing Website')\n",
    "    sleep(3) ## Wait for it\n",
    "    \n",
    "    ## Esecute the Search\n",
    "    inputElement = driver.find_element_by_id(\"searchBox\")\n",
    "    inputElement.clear() ## Clear it just in case\n",
    "    inputElement.send_keys('\"{}\"'.format(search_term))\n",
    "    inputElement.send_keys(Keys.ENTER)\n",
    "    print('searching for term')\n",
    "    sleep(3)\n",
    "\n",
    "    ## Now Collect the Links\n",
    "\n",
    "    soup = BeautifulSoup(driver.page_source)\n",
    "    current_page = 0\n",
    "    results = []\n",
    "    pagenum = soup.find(text=\" Page\")\n",
    "    total_pages = int([i for i in pagenum.parent.nextSiblingGenerator()][3].text)\n",
    "    print('Total Pages', total_pages)\n",
    "\n",
    "    print('Scraping Results')\n",
    "    while current_page+1 <= total_pages:\n",
    "        current_page += 1\n",
    "        soup = BeautifulSoup(driver.page_source)\n",
    "\n",
    "\n",
    "        print ('\\nProcessing Page: %s' % current_page, '\\n')\n",
    "        for i in soup.find_all('div' , {\"class\": \"projects\"}):\n",
    "            try:\n",
    "                selected = i.find('a',{'class':'search-head'});\n",
    "                url = selected['href']\n",
    "                label = selected.text\n",
    "\n",
    "#                 print(label, url)\n",
    "                results.append([label, url])\n",
    "            except TypeError:\n",
    "                continue\n",
    "        if current_page < total_pages:\n",
    "            sleep(2)\n",
    "            nextButton = driver.find_element_by_class_name('next')\n",
    "            print(nextButton)\n",
    "            nextButton.click()\n",
    "            sleep(2)\n",
    "            \n",
    "    df = pd.DataFrame(results,columns=['Project Name','url'])\n",
    "    df['search_term'] = search_term\n",
    "    driver.quit()\n",
    "    print('Completed Search for', search_term,'\\n')\n",
    "    return df"
   ]
  },
  {
   "cell_type": "code",
   "execution_count": 20,
   "metadata": {
    "run_control": {
     "frozen": false,
     "read_only": false
    }
   },
   "outputs": [
    {
     "name": "stderr",
     "output_type": "stream",
     "text": [
      "  0%|          | 0/4 [00:00<?, ?it/s]"
     ]
    },
    {
     "name": "stdout",
     "output_type": "stream",
     "text": [
      "China Construction Bank\n",
      "##############################\n",
      "Searching for Term: China Construction Bank\n",
      "Initializing Website\n",
      "searching for term\n",
      "Total Pages 1\n",
      "Scraping Results\n",
      "\n",
      "Processing Page: 1 \n",
      "\n"
     ]
    },
    {
     "name": "stderr",
     "output_type": "stream",
     "text": [
      " 25%|██▌       | 1/4 [00:16<00:48, 16.23s/it]"
     ]
    },
    {
     "name": "stdout",
     "output_type": "stream",
     "text": [
      "Completed Search for China Construction Bank \n",
      "\n",
      "Bank of China\n",
      "##############################\n",
      "Searching for Term: Bank of China\n",
      "Initializing Website\n",
      "searching for term\n",
      "Total Pages 2\n",
      "Scraping Results\n",
      "\n",
      "Processing Page: 1 \n",
      "\n",
      "<selenium.webdriver.remote.webelement.WebElement (session=\"bfe0986638711e8a91d9e526b3a0f36f\", element=\"0.33977600427145505-2\")>\n"
     ]
    },
    {
     "name": "stderr",
     "output_type": "stream",
     "text": [
      " 50%|█████     | 2/4 [00:37<00:37, 18.54s/it]"
     ]
    },
    {
     "name": "stdout",
     "output_type": "stream",
     "text": [
      "\n",
      "Processing Page: 2 \n",
      "\n",
      "Completed Search for Bank of China \n",
      "\n",
      "Deutsche Bank\n",
      "##############################\n",
      "Searching for Term: Deutsche Bank\n",
      "Initializing Website\n",
      "searching for term\n",
      "Total Pages 2\n",
      "Scraping Results\n",
      "\n",
      "Processing Page: 1 \n",
      "\n",
      "<selenium.webdriver.remote.webelement.WebElement (session=\"0857ba1439c766e25e31a5d3436cdd48\", element=\"0.22010257161358293-2\")>\n"
     ]
    },
    {
     "name": "stderr",
     "output_type": "stream",
     "text": [
      " 75%|███████▌  | 3/4 [00:56<00:18, 18.68s/it]"
     ]
    },
    {
     "name": "stdout",
     "output_type": "stream",
     "text": [
      "\n",
      "Processing Page: 2 \n",
      "\n",
      "Completed Search for Deutsche Bank \n",
      "\n",
      "JPMorgan Chase\n",
      "##############################\n",
      "Searching for Term: JPMorgan Chase\n",
      "Initializing Website\n",
      "searching for term\n",
      "Total Pages 1\n",
      "Scraping Results\n",
      "\n",
      "Processing Page: 1 \n",
      "\n"
     ]
    },
    {
     "name": "stderr",
     "output_type": "stream",
     "text": [
      "100%|██████████| 4/4 [01:12<00:00, 18.09s/it]"
     ]
    },
    {
     "name": "stdout",
     "output_type": "stream",
     "text": [
      "Completed Search for JPMorgan Chase \n",
      "\n"
     ]
    },
    {
     "name": "stderr",
     "output_type": "stream",
     "text": [
      "\n"
     ]
    }
   ],
   "source": [
    "search_terms = [\"China Construction Bank\", \"Bank of China\",'Deutsche Bank','JPMorgan Chase']\n",
    "master_df = None\n",
    "dfs = []\n",
    "for idx, t in enumerate(tqdm(search_terms)):   \n",
    "    print(t)\n",
    "    results = execute_search(t)\n",
    "    if idx==0:\n",
    "        master_df = results\n",
    "    else:\n",
    "        master_df = master_df.append(results)"
   ]
  },
  {
   "cell_type": "code",
   "execution_count": 21,
   "metadata": {},
   "outputs": [],
   "source": [
    "master_df = master_df.reset_index(drop=True)\n",
    "master_df['reviewed'] = None\n",
    "# Create a Pandas Excel writer using XlsxWriter as the engine.\n",
    "writer = pd.ExcelWriter('idi_example.xlsx', engine='xlsxwriter')\n",
    "\n",
    "# Convert the dataframe to an XlsxWriter Excel object.\n",
    "master_df.to_excel(writer, sheet_name='Sheet1')\n",
    "\n",
    "# Close the Pandas Excel writer and output the Excel file.\n",
    "writer.save()"
   ]
  },
  {
   "cell_type": "code",
   "execution_count": 22,
   "metadata": {},
   "outputs": [
    {
     "data": {
      "text/plain": [
       "https://disclosures.ifc.org/#/projectDetail/SPI/29386     2\n",
       "https://disclosures.ifc.org/#/projectDetail/SII/31937     2\n",
       "https://disclosures.ifc.org/#/projectDetail/ESRS/34297    1\n",
       "https://disclosures.ifc.org/#/projectDetail/AS/592067     1\n",
       "https://disclosures.ifc.org/#/projectDetail/SPI/10603     1\n",
       "https://disclosures.ifc.org/#/projectDetail/SPI/556906    1\n",
       "https://disclosures.ifc.org/#/projectDetail/SPI/29920     1\n",
       "https://disclosures.ifc.org/#/projectDetail/AS/586187     1\n",
       "https://disclosures.ifc.org/#/projectDetail/SII/34297     1\n",
       "https://disclosures.ifc.org/#/projectDetail/SII/33120     1\n",
       "https://disclosures.ifc.org/#/projectDetail/SPI/23524     1\n",
       "https://disclosures.ifc.org/#/projectDetail/SPI/25114     1\n",
       "https://disclosures.ifc.org/#/projectDetail/SPI/24385     1\n",
       "https://disclosures.ifc.org/#/projectDetail/SPI/30572     1\n",
       "https://disclosures.ifc.org/#/projectDetail/SPI/30815     1\n",
       "https://disclosures.ifc.org/#/projectDetail/SPI/21476     1\n",
       "https://disclosures.ifc.org/#/projectDetail/SII/34810     1\n",
       "https://disclosures.ifc.org/#/projectDetail/SPI/26101     1\n",
       "https://disclosures.ifc.org/#/projectDetail/SPI/28626     1\n",
       "https://disclosures.ifc.org/#/projectDetail/SPI/10730     1\n",
       "https://disclosures.ifc.org/#/projectDetail/SPI/20137     1\n",
       "https://disclosures.ifc.org/#/projectDetail/SII/35461     1\n",
       "https://disclosures.ifc.org/#/projectDetail/SPI/24524     1\n",
       "https://disclosures.ifc.org/#/projectDetail/SPI/11063     1\n",
       "https://disclosures.ifc.org/#/projectDetail/SII/33883     1\n",
       "https://disclosures.ifc.org/#/projectDetail/SPI/28556     1\n",
       "https://disclosures.ifc.org/#/projectDetail/SPI/28449     1\n",
       "https://disclosures.ifc.org/#/projectDetail/AS/598367     1\n",
       "https://disclosures.ifc.org/#/projectDetail/SII/35042     1\n",
       "https://disclosures.ifc.org/#/projectDetail/SPI/25665     1\n",
       "https://disclosures.ifc.org/#/projectDetail/SII/39165     1\n",
       "https://disclosures.ifc.org/#/projectDetail/SPI/26486     1\n",
       "https://disclosures.ifc.org/#/projectDetail/SPI/29109     1\n",
       "https://disclosures.ifc.org/#/projectDetail/SII/32311     1\n",
       "https://disclosures.ifc.org/#/projectDetail/AS/588467     1\n",
       "https://disclosures.ifc.org/#/projectDetail/SII/33558     1\n",
       "https://disclosures.ifc.org/#/projectDetail/SPI/28541     1\n",
       "https://disclosures.ifc.org/#/projectDetail/SPI/28790     1\n",
       "https://disclosures.ifc.org/#/projectDetail/SPI/7127      1\n",
       "https://disclosures.ifc.org/#/projectDetail/SPI/27365     1\n",
       "https://disclosures.ifc.org/#/projectDetail/SPI/24574     1\n",
       "https://disclosures.ifc.org/#/projectDetail/SII/35788     1\n",
       "https://disclosures.ifc.org/#/projectDetail/SPI/4898      1\n",
       "Name: url, dtype: int64"
      ]
     },
     "execution_count": 22,
     "metadata": {},
     "output_type": "execute_result"
    }
   ],
   "source": [
    "master_df.url.value_counts()"
   ]
  },
  {
   "cell_type": "markdown",
   "metadata": {
    "run_control": {
     "frozen": false,
     "read_only": false
    }
   },
   "source": [
    "# End"
   ]
  }
 ],
 "metadata": {
  "colab": {
   "default_view": {},
   "name": "IDI.ipynb",
   "provenance": [],
   "version": "0.3.2",
   "views": {}
  },
  "kernelspec": {
   "display_name": "Python 2",
   "language": "python",
   "name": "python2"
  },
  "language_info": {
   "codemirror_mode": {
    "name": "ipython",
    "version": 2
   },
   "file_extension": ".py",
   "mimetype": "text/x-python",
   "name": "python",
   "nbconvert_exporter": "python",
   "pygments_lexer": "ipython2",
   "version": "2.7.14"
  },
  "toc": {
   "nav_menu": {
    "height": "12px",
    "width": "252px"
   },
   "navigate_menu": true,
   "number_sections": true,
   "sideBar": true,
   "threshold": 4,
   "toc_cell": false,
   "toc_section_display": "block",
   "toc_window_display": false
  }
 },
 "nbformat": 4,
 "nbformat_minor": 2
}
